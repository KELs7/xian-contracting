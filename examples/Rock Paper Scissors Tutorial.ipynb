{
 "cells": [
  {
   "cell_type": "code",
   "execution_count": 1,
   "metadata": {},
   "outputs": [],
   "source": [
    "from contracting.stdlib.bridge.hashing import sha3\n",
    "import secrets"
   ]
  },
  {
   "cell_type": "code",
   "execution_count": 2,
   "metadata": {},
   "outputs": [],
   "source": [
    "def rps_contract():\n",
    "    # This tells the blockchain to make space for data. Variable and Hash are not Python builtins. \n",
    "    # They are globals (globals are something you can access without importing it) made available by the contracting. \n",
    "    # Calling Variable() creates a new piece of memory within the blockchain, that can hold a single value. \n",
    "    # If we say \"foo = Variable()\" then we can interact with that piece of memory through \"foo\". \n",
    "    # We can set the piece of memory to 1, for example by calling \"foo.set(1)\".\n",
    "    # Setting the value will change the value for the next call to the smart contract.\n",
    "    # We can get the piece of memory by calling \"foo.get()\".\n",
    "    next_game_id = Variable()\n",
    "    \n",
    "    game_id_to_password_hash = Hash()\n",
    "    \n",
    "    game_id_to_player1_choice_hash = Hash()\n",
    "    game_id_to_player2_choice_hash = Hash()\n",
    "    \n",
    "    game_id_to_player1_choice = Hash()\n",
    "    game_id_to_player2_choice = Hash()\n",
    "            \n",
    "    # @construct means that this is the function that will be called ONCE when the smart contract is created\n",
    "    @construct\n",
    "    def constructor():\n",
    "        # Game id starts at 0.\n",
    "        next_game_id.set(0)\n",
    "        \n",
    "    # @export makes this function public, so it can be called by anyone on a deployed contract.\n",
    "    # By calling start_game player1 creates a game and also submits their hashed and salted choice.\n",
    "    @export\n",
    "    def start_game(password_hash, player1_choice_hash):\n",
    "        # This retrieves unique game Id from the blockchain. \n",
    "        unique_game_id = next_game_id.get()\n",
    "        # This increments the number by 1, so the next game has a unique Id.\n",
    "        next_game_id.set(next_game_id.get() + 1)\n",
    "        \n",
    "        # Hash throws error on integer keys. That's why we convert to a string\n",
    "        # Remember player1 choice hash, and password hash for this game. \n",
    "        game_id_to_password_hash[str(unique_game_id)] = password_hash\n",
    "\n",
    "        game_id_to_player1_choice_hash[str(unique_game_id)] = player1_choice_hash\n",
    "        \n",
    "        return unique_game_id\n",
    "    \n",
    "    # By calling submit_choice player2 submits their hashed and salted choice.\n",
    "    @export\n",
    "    def submit_choice(game_id, game_password, player2_choice_hash):\n",
    "        assert_game_exists(game_id)\n",
    "\n",
    "        # Check that this is the right password for the game.\n",
    "        assert hashlib.sha3(game_password) == game_id_to_password_hash[str(game_id)], 'Wrong password!'\n",
    "        # By calling submit_choice player2 reveals the password to everyone. This means that everyone could reach\n",
    "        # this line of code. We need to ensure that player2's choice can only be submitted once.\n",
    "        assert game_id_to_player2_choice_hash[str(game_id)] is None, 'Player 2 has already submitted choice.' \n",
    "        \n",
    "        # Remember player2's choice.\n",
    "        game_id_to_player2_choice_hash[str(game_id)] = player2_choice_hash\n",
    "        \n",
    "        return\n",
    "    \n",
    "    # Returns 'player1_wins' if player1 is the winner.\n",
    "    # Returns 'player2_wins' if player2 is the winner.\n",
    "    # Returns 'tie' if both players made the same choice.\n",
    "    # Returns 'unfinished' if the game isn't finished\n",
    "\n",
    "    @export\n",
    "    def get_outcome(game_id):\n",
    "        assert_game_exists(game_id)\n",
    "        \n",
    "        player1_choice = game_id_to_player1_choice[str(game_id)]\n",
    "        player2_choice = game_id_to_player2_choice[str(game_id)]\n",
    "        \n",
    "        if player1_choice is None or player2_choice is None:\n",
    "            return \"unfinished\"\n",
    "        \n",
    "        if player1_choice == player2_choice:\n",
    "            return \"tie\"\n",
    "\n",
    "        if beats(player1_choice, player2_choice):\n",
    "            return \"player1_wins\"\n",
    "        \n",
    "        if beats(player2_choice, player1_choice):\n",
    "            return \"player2_wins\"\n",
    "        \n",
    "    @export\n",
    "    def is_valid_choice(choice):\n",
    "        return choice in [\"rock\", \"paper\", \"scissors\"]\n",
    "      \n",
    "    # Returns whether choice1 beats choice2\n",
    "    @export\n",
    "    def beats(choice1, choice2):\n",
    "        assert is_valid_choice(choice1), \"choice1 must be a valid choice\"\n",
    "        assert is_valid_choice(choice2), \"choice2 must be a valid choice\"\n",
    "\n",
    "        if choice1 == \"rock\" and choice2 == \"scissors\":\n",
    "            return True\n",
    "        \n",
    "        if choice1 == \"paper\" and choice2 == \"rock\":\n",
    "            return True\n",
    "        \n",
    "        if choice1 == \"scissors\" and choice2 == \"paper\":\n",
    "            return True\n",
    "        \n",
    "        return False\n",
    "    \n",
    "    # By calling reveal a player can reveal their unhashed choice.\n",
    "    # Player1 has to call the function with is_player1=true.\n",
    "    # Player2 has to call the function with is_player1=false.\n",
    "    @export\n",
    "    def reveal(game_id, choice, choice_salt, is_player1):\n",
    "        assert_game_exists(game_id)\n",
    "        \n",
    "        # Make sure players can only reveal valid choices\n",
    "        assert is_valid_choice(choice), \"choice must be rock, paper or scissors\"\n",
    "        \n",
    "        # We don't want the players to be able to reveal before both players have submitted their choices\n",
    "        assert game_id_to_player1_choice_hash[str(game_id)] is not None, \"Player 1 must have submitted their choice\"\n",
    "        assert game_id_to_player2_choice_hash[str(game_id)] is not None, \"Player 2 must have submitted their choice\"\n",
    "        \n",
    "        # Don't allow players to reveal twice\n",
    "        if is_player1:\n",
    "            assert game_id_to_player1_choice[str(game_id)] is None, \"Player 1 can't reveal their choice twice\"\n",
    "        else:\n",
    "            assert game_id_to_player2_choice[str(game_id)] is None, \"Player 2 can't reveal their choice twice\"\n",
    "        \n",
    "        # We've made sure that reveal can be called\n",
    "        \n",
    "        # Now we need to check that the reveal is correct\n",
    "        \n",
    "        salted_choice = choice + choice_salt\n",
    "        hashed_choice = hashlib.sha3(salted_choice)\n",
    "        \n",
    "        if is_player1:\n",
    "            assert game_id_to_player1_choice_hash[str(game_id)] == hashed_choice, \"Player 1 has revealed a choice different from what they submitted\"\n",
    "        else:\n",
    "            assert game_id_to_player2_choice_hash[str(game_id)] == hashed_choice, \"Player 2 has revealed a choice different from what they submitted\"\n",
    "            \n",
    "        # Now we're sure that the player has revealed the choice they have previously submitted the hashed salted version of\n",
    "        \n",
    "        # Remember the choice\n",
    "        if is_player1:\n",
    "            game_id_to_player1_choice[str(game_id)] = choice\n",
    "        else:\n",
    "            game_id_to_player2_choice[str(game_id)] = choice\n",
    "        \n",
    "        return\n",
    "    \n",
    "    def assert_game_exists(game_id):\n",
    "        # Check that this game exists.\n",
    "        assert game_id < next_game_id.get(), 'Game with id {} does not exist.'.format(game_id)"
   ]
  },
  {
   "cell_type": "code",
   "execution_count": 3,
   "metadata": {},
   "outputs": [],
   "source": [
    "from contracting.client import ContractingClient"
   ]
  },
  {
   "cell_type": "code",
   "execution_count": 4,
   "metadata": {},
   "outputs": [],
   "source": [
    "client = ContractingClient(signer='ren')"
   ]
  },
  {
   "cell_type": "markdown",
   "metadata": {},
   "source": [
    "Clear Redis database so we have a blank slate"
   ]
  },
  {
   "cell_type": "code",
   "execution_count": 5,
   "metadata": {},
   "outputs": [],
   "source": [
    "client.flush()"
   ]
  },
  {
   "cell_type": "code",
   "execution_count": 6,
   "metadata": {},
   "outputs": [],
   "source": [
    "client.submit(rps_contract)"
   ]
  },
  {
   "cell_type": "markdown",
   "metadata": {},
   "source": [
    "Get a handle for the contract that we can interact with"
   ]
  },
  {
   "cell_type": "code",
   "execution_count": 7,
   "metadata": {},
   "outputs": [],
   "source": [
    "contract = client.get_contract('rps_contract')"
   ]
  },
  {
   "cell_type": "markdown",
   "metadata": {},
   "source": [
    "Alice (player 1) chooses single use password. Only the person that has the password can join the game and play with Alice. Everything that starts with alice_ is only visible to Alice. "
   ]
  },
  {
   "cell_type": "code",
   "execution_count": 8,
   "metadata": {},
   "outputs": [],
   "source": [
    "alice_game_password = \"trollbridge\""
   ]
  },
  {
   "cell_type": "markdown",
   "metadata": {},
   "source": [
    "Alice hashes the password so she can submit it to the blockchain without sharing the actual password. She does this because everything on the blockchain is public, and she wants only the person she chooses to play the game with to have the password. \n",
    "\n",
    "*explain hashing"
   ]
  },
  {
   "cell_type": "code",
   "execution_count": 9,
   "metadata": {},
   "outputs": [
    {
     "data": {
      "text/plain": [
       "'47a5bcfb0d81053f5025ab57e6b94f43751f91bdb16fc0d63595223dc78ec1b4'"
      ]
     },
     "execution_count": 9,
     "metadata": {},
     "output_type": "execute_result"
    }
   ],
   "source": [
    "alice_game_password_hash = sha3(alice_game_password)\n",
    "alice_game_password_hash"
   ]
  },
  {
   "cell_type": "markdown",
   "metadata": {},
   "source": [
    "Alice chooses rock."
   ]
  },
  {
   "cell_type": "code",
   "execution_count": 10,
   "metadata": {},
   "outputs": [],
   "source": [
    "alice_choice = \"rock\""
   ]
  },
  {
   "cell_type": "markdown",
   "metadata": {},
   "source": [
    "We can't submit the choice to the blockchain as plain text, because then Bob (player 2) can see it and win by choosing paper. \n",
    "\n",
    "*explain blockchain sequentiality"
   ]
  },
  {
   "cell_type": "code",
   "execution_count": 11,
   "metadata": {},
   "outputs": [
    {
     "data": {
      "text/plain": [
       "'bd996e2dc82a7c3e2c2da41291648e852b62b01fb09bcb6ed77975c273f08404'"
      ]
     },
     "execution_count": 11,
     "metadata": {},
     "output_type": "execute_result"
    }
   ],
   "source": [
    "alice_choice_hash = sha3(alice_choice)\n",
    "alice_choice_hash"
   ]
  },
  {
   "cell_type": "markdown",
   "metadata": {},
   "source": [
    "The problem with subiting Alices choice like this is the 3 choices will be hashed the same everytime. Bob (player 2) can know what each of the hashes for the 3 choices and pick paper to win. To fix this Alice needs to pick a random salt to hash with her choice so that Bob can't guess her choice by looking at the hash."
   ]
  },
  {
   "cell_type": "code",
   "execution_count": 12,
   "metadata": {},
   "outputs": [
    {
     "data": {
      "text/plain": [
       "'e537d082c00ca25eebe331eaf5ddd83fa87bb1bebf6dcad7b689b1fe88213afc'"
      ]
     },
     "execution_count": 12,
     "metadata": {},
     "output_type": "execute_result"
    }
   ],
   "source": [
    "alice_choice_salt = secrets.token_hex(32)\n",
    "alice_choice_salt"
   ]
  },
  {
   "cell_type": "markdown",
   "metadata": {},
   "source": [
    "Now we can combine alice_choice and alice_choice_salt and hash them together to create something that Bob can't guess Alices choice from. But Alice can later submit her choice and the salt to prove her choice."
   ]
  },
  {
   "cell_type": "code",
   "execution_count": 13,
   "metadata": {},
   "outputs": [
    {
     "data": {
      "text/plain": [
       "'rocke537d082c00ca25eebe331eaf5ddd83fa87bb1bebf6dcad7b689b1fe88213afc'"
      ]
     },
     "execution_count": 13,
     "metadata": {},
     "output_type": "execute_result"
    }
   ],
   "source": [
    "alice_salted_choice = alice_choice + alice_choice_salt\n",
    "alice_salted_choice"
   ]
  },
  {
   "cell_type": "code",
   "execution_count": 14,
   "metadata": {},
   "outputs": [
    {
     "data": {
      "text/plain": [
       "'687f7855dfedbcf46c8fb3587b4261d7c6d89d1c1ba57f99f128c3474d766832'"
      ]
     },
     "execution_count": 14,
     "metadata": {},
     "output_type": "execute_result"
    }
   ],
   "source": [
    "alice_salted_choice_hash = sha3(alice_salted_choice)\n",
    "alice_salted_choice_hash"
   ]
  },
  {
   "cell_type": "markdown",
   "metadata": {},
   "source": [
    "Now Alice starts a game so she can invite Bob to play."
   ]
  },
  {
   "cell_type": "code",
   "execution_count": 15,
   "metadata": {},
   "outputs": [
    {
     "data": {
      "text/plain": [
       "0"
      ]
     },
     "execution_count": 15,
     "metadata": {},
     "output_type": "execute_result"
    }
   ],
   "source": [
    "alice_game_id = contract.start_game(password_hash=alice_game_password_hash, player1_choice_hash=alice_salted_choice_hash) \n",
    "alice_game_id"
   ]
  },
  {
   "cell_type": "markdown",
   "metadata": {},
   "source": [
    "Alice gets back a game Id."
   ]
  },
  {
   "cell_type": "markdown",
   "metadata": {},
   "source": [
    "Now Alice has to tell Bob the password and the game Id. This could be done over a messanger or built into the front end of an application. \n",
    "\n",
    "Everything that starts with bob_ is only visible to Bob."
   ]
  },
  {
   "cell_type": "code",
   "execution_count": 16,
   "metadata": {},
   "outputs": [],
   "source": [
    "bob_game_password = alice_game_password\n",
    "bob_game_id = alice_game_id"
   ]
  },
  {
   "cell_type": "markdown",
   "metadata": {},
   "source": [
    "Now it is Bobs turn.\n",
    "Bob chooses scissors."
   ]
  },
  {
   "cell_type": "code",
   "execution_count": 17,
   "metadata": {},
   "outputs": [],
   "source": [
    "bob_choice = \"scissors\""
   ]
  },
  {
   "cell_type": "markdown",
   "metadata": {},
   "source": [
    "And now Bob has to salt his choice."
   ]
  },
  {
   "cell_type": "code",
   "execution_count": 18,
   "metadata": {},
   "outputs": [
    {
     "data": {
      "text/plain": [
       "'66a2200ad9346423180b7e2b36fef0cc41eb7bf0ba6a29dd844da5eb9b2710c5'"
      ]
     },
     "execution_count": 18,
     "metadata": {},
     "output_type": "execute_result"
    }
   ],
   "source": [
    "bob_choice_salt = secrets.token_hex(32)\n",
    "bob_choice_salt"
   ]
  },
  {
   "cell_type": "markdown",
   "metadata": {},
   "source": [
    "And now we combine bob_choice and bob_choice_salt together and hash them."
   ]
  },
  {
   "cell_type": "code",
   "execution_count": 19,
   "metadata": {},
   "outputs": [
    {
     "data": {
      "text/plain": [
       "'scissors66a2200ad9346423180b7e2b36fef0cc41eb7bf0ba6a29dd844da5eb9b2710c5'"
      ]
     },
     "execution_count": 19,
     "metadata": {},
     "output_type": "execute_result"
    }
   ],
   "source": [
    "bob_salted_choice = bob_choice + bob_choice_salt\n",
    "bob_salted_choice"
   ]
  },
  {
   "cell_type": "code",
   "execution_count": 20,
   "metadata": {},
   "outputs": [
    {
     "data": {
      "text/plain": [
       "'2c1d875f5239925d8e455e363f8973ceeb2377c0a7f0adcd1c8beca098658c89'"
      ]
     },
     "execution_count": 20,
     "metadata": {},
     "output_type": "execute_result"
    }
   ],
   "source": [
    "bob_salted_choice_hash = sha3(bob_salted_choice)\n",
    "bob_salted_choice_hash"
   ]
  },
  {
   "cell_type": "markdown",
   "metadata": {},
   "source": [
    "Bob now needs to submit his choice to the blockchain. Only Bob has the game password so only Bob can join Alices game."
   ]
  },
  {
   "cell_type": "code",
   "execution_count": 21,
   "metadata": {},
   "outputs": [],
   "source": [
    "contract.submit_choice(game_password=bob_game_password, game_id=bob_game_id, player2_choice_hash=bob_salted_choice_hash)"
   ]
  },
  {
   "cell_type": "markdown",
   "metadata": {},
   "source": [
    "Make sure that the things that should not work don't work\n",
    "TODO check that we can't submit choice for nonexisting game\n",
    "TODO check that we can't submit choice for game with wrong password\n",
    "TODO check that we can't submit choice twice"
   ]
  },
  {
   "cell_type": "markdown",
   "metadata": {},
   "source": [
    "Now that both players have submitted their hashed and salted choices, both players can reveal their choices.\n",
    "The order doesn't matter. Alice goes first in this example."
   ]
  },
  {
   "cell_type": "code",
   "execution_count": 22,
   "metadata": {},
   "outputs": [],
   "source": [
    "contract.reveal(game_id=alice_game_id, choice=alice_choice, choice_salt=alice_choice_salt, is_player1=True)"
   ]
  },
  {
   "cell_type": "markdown",
   "metadata": {},
   "source": [
    "Bob goes second"
   ]
  },
  {
   "cell_type": "code",
   "execution_count": 23,
   "metadata": {},
   "outputs": [],
   "source": [
    "contract.reveal(game_id=bob_game_id, choice=bob_choice, choice_salt=bob_choice_salt, is_player1=False)"
   ]
  },
  {
   "cell_type": "markdown",
   "metadata": {},
   "source": [
    "Now we can see who won the game"
   ]
  },
  {
   "cell_type": "code",
   "execution_count": 24,
   "metadata": {},
   "outputs": [
    {
     "data": {
      "text/plain": [
       "'player1_wins'"
      ]
     },
     "execution_count": 24,
     "metadata": {},
     "output_type": "execute_result"
    }
   ],
   "source": [
    "contract.get_outcome(game_id=alice_game_id)"
   ]
  },
  {
   "cell_type": "markdown",
   "metadata": {},
   "source": [
    "As expected Alice, who is player1, wins!"
   ]
  },
  {
   "cell_type": "markdown",
   "metadata": {},
   "source": [
    "## tests"
   ]
  },
  {
   "cell_type": "code",
   "execution_count": 30,
   "metadata": {},
   "outputs": [],
   "source": [
    "assert contract.is_valid_choice(choice=\"rock\")\n",
    "assert contract.is_valid_choice(choice=\"paper\")\n",
    "assert contract.is_valid_choice(choice=\"scissors\")\n",
    "assert not contract.is_valid_choice(choice=\"airplane\")"
   ]
  },
  {
   "cell_type": "code",
   "execution_count": 38,
   "metadata": {},
   "outputs": [],
   "source": [
    "assert contract.beats(choice1=\"rock\", choice2=\"scissors\")\n",
    "assert not contract.beats(choice1=\"rock\", choice2=\"rock\")\n",
    "assert not contract.beats(choice1=\"rock\", choice2=\"paper\")\n",
    "\n",
    "assert contract.beats(choice1=\"paper\", choice2=\"rock\")\n",
    "assert not contract.beats(choice1=\"paper\", choice2=\"paper\")\n",
    "assert not contract.beats(choice1=\"paper\", choice2=\"scissors\")\n",
    "\n",
    "assert contract.beats(choice1=\"scissors\", choice2=\"paper\")\n",
    "assert not contract.beats(choice1=\"scissors\", choice2=\"scissors\")\n",
    "assert not contract.beats(choice1=\"scissors\", choice2=\"rock\")"
   ]
  }
 ],
 "metadata": {
  "kernelspec": {
   "display_name": "Python 3",
   "language": "python",
   "name": "python3"
  },
  "language_info": {
   "codemirror_mode": {
    "name": "ipython",
    "version": 3
   },
   "file_extension": ".py",
   "mimetype": "text/x-python",
   "name": "python",
   "nbconvert_exporter": "python",
   "pygments_lexer": "ipython3",
   "version": "3.7.3"
  }
 },
 "nbformat": 4,
 "nbformat_minor": 2
}
