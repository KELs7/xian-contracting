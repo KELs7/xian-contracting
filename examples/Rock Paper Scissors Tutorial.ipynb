{
 "cells": [
  {
   "cell_type": "code",
   "execution_count": 1,
   "metadata": {},
   "outputs": [],
   "source": [
    "from contracting.stdlib.bridge.hashing import sha3\n",
    "import secrets"
   ]
  },
  {
   "cell_type": "code",
   "execution_count": 2,
   "metadata": {},
   "outputs": [],
   "source": [
    "def rps_contract():\n",
    "    # This tells the blockchain to make space for data. Variable and Hash are not Python builtins. \n",
    "    # They are globals (globals are something you can access without importing it) made available by the contracting. \n",
    "    # Calling Variable() creates a new piece of memory within the blockchain, that can hold a single value. \n",
    "    # If we say \"foo = Variable()\" then we can interact with that piece of memory through \"foo\". \n",
    "    # We can set the piece of memory to 1, for example by calling \"foo.set(1)\".\n",
    "    # Setting the value will change the value for the next call to the smart contract.\n",
    "    # We can get the piece of memory by calling \"foo.get()\".\n",
    "    next_game_id = Variable()\n",
    "    \n",
    "    game_id_to_password_hash = Hash()\n",
    "    game_id_to_player1_choice = Hash()\n",
    "            \n",
    "    # @construct means that this is the function that will be called ONCE when the smart contract is created\n",
    "    @construct\n",
    "    def constructor():\n",
    "        # Game id starts at 0.\n",
    "        next_game_id.set(0)\n",
    "        \n",
    "    # @export makes this function public, so it can be called by anyone on a deployed contract    \n",
    "    @export\n",
    "    def start_game(password_hash, choice_hash):\n",
    "        # This retrieves unique game Id from the blockchain. \n",
    "        unique_game_id = next_game_id.get()\n",
    "        # This increments the number by 1, so the next game has a unique Id.\n",
    "        next_game_id.set(next_game_id.get() + 1)\n",
    "        \n",
    "        # Hash throws error on integer keys. That's why we convert to a string\n",
    "        game_id_to_password_hash[str(unique_game_id)] = password_hash\n",
    "        \n",
    "        return unique_game_id\n",
    "        \n",
    "from contracting.client import ContractingClient\n",
    "client = ContractingClient(signer='ren')\n",
    "\n",
    "client.submit(rps_contract)\n",
    "\n",
    "contract = client.get_contract('rps_contract')"
   ]
  },
  {
   "cell_type": "markdown",
   "metadata": {},
   "source": [
    "Alice (player 1) chooses single use password. Only the person that has the password can join the game and play with Alice. Everything that starts with alice_ is only visible to Alice. "
   ]
  },
  {
   "cell_type": "code",
   "execution_count": 3,
   "metadata": {},
   "outputs": [],
   "source": [
    "alice_game_password = \"trollbridge\""
   ]
  },
  {
   "cell_type": "markdown",
   "metadata": {},
   "source": [
    "Alice hashes the password so she can submit it to the blockchain without sharing the actual password. She does this because everything on the blockchain is public, and she wants only the person she chooses to play the game with to have the password. \n",
    "\n",
    "*explain hashing"
   ]
  },
  {
   "cell_type": "code",
   "execution_count": 4,
   "metadata": {},
   "outputs": [
    {
     "data": {
      "text/plain": [
       "'47a5bcfb0d81053f5025ab57e6b94f43751f91bdb16fc0d63595223dc78ec1b4'"
      ]
     },
     "execution_count": 4,
     "metadata": {},
     "output_type": "execute_result"
    }
   ],
   "source": [
    "alice_game_password_hash = sha3(alice_game_password)\n",
    "alice_game_password_hash"
   ]
  },
  {
   "cell_type": "markdown",
   "metadata": {},
   "source": [
    "Alice chooses rock."
   ]
  },
  {
   "cell_type": "code",
   "execution_count": 5,
   "metadata": {},
   "outputs": [],
   "source": [
    "alice_choice = \"rock\""
   ]
  },
  {
   "cell_type": "markdown",
   "metadata": {},
   "source": [
    "We can't submit the choice to the blockchain as plain text, because then Bob (player 2) can see it and win by choosing paper. \n",
    "\n",
    "*explain blockchain sequentiality"
   ]
  },
  {
   "cell_type": "code",
   "execution_count": 6,
   "metadata": {},
   "outputs": [
    {
     "data": {
      "text/plain": [
       "'bd996e2dc82a7c3e2c2da41291648e852b62b01fb09bcb6ed77975c273f08404'"
      ]
     },
     "execution_count": 6,
     "metadata": {},
     "output_type": "execute_result"
    }
   ],
   "source": [
    "alice_choice_hash = sha3(alice_choice)\n",
    "alice_choice_hash"
   ]
  },
  {
   "cell_type": "markdown",
   "metadata": {},
   "source": [
    "The problem with subiting Alices choice like this is the 3 choices will be hashed the same everytime. Bob (player 2) can know what each of the hashes for the 3 choices and pick paper to win. To fix this Alice needs to pick a random salt to hash with her choice so that Bob can't guess her choice by looking at the hash."
   ]
  },
  {
   "cell_type": "code",
   "execution_count": 7,
   "metadata": {},
   "outputs": [
    {
     "data": {
      "text/plain": [
       "'20ea3b82462f66528a722df7b332f92ac25dc800ccff6539e56ed2c8f9b9b646'"
      ]
     },
     "execution_count": 7,
     "metadata": {},
     "output_type": "execute_result"
    }
   ],
   "source": [
    "alice_choice_salt = secrets.token_hex(32)\n",
    "alice_choice_salt"
   ]
  },
  {
   "cell_type": "raw",
   "metadata": {},
   "source": [
    "Now we can combine alice_choice and alice_choice_salt and hash them together to create something that Bob can't guess Alices choice from. But Alice can later submit her choice and the salt to prove her choice."
   ]
  },
  {
   "cell_type": "code",
   "execution_count": 8,
   "metadata": {},
   "outputs": [
    {
     "data": {
      "text/plain": [
       "'rock20ea3b82462f66528a722df7b332f92ac25dc800ccff6539e56ed2c8f9b9b646'"
      ]
     },
     "execution_count": 8,
     "metadata": {},
     "output_type": "execute_result"
    }
   ],
   "source": [
    "alice_salted_choice = alice_choice + alice_choice_salt\n",
    "alice_salted_choice"
   ]
  },
  {
   "cell_type": "code",
   "execution_count": 9,
   "metadata": {},
   "outputs": [
    {
     "data": {
      "text/plain": [
       "'001f528d3ccc25aef42222116e4e76d39ed6a0822999dadda7ec280eb2499226'"
      ]
     },
     "execution_count": 9,
     "metadata": {},
     "output_type": "execute_result"
    }
   ],
   "source": [
    "alice_salted_choice_hash = sha3(alice_salted_choice)\n",
    "alice_salted_choice_hash"
   ]
  },
  {
   "cell_type": "markdown",
   "metadata": {},
   "source": [
    "Now Alice starts a game so she can invite Bob to play."
   ]
  },
  {
   "cell_type": "code",
   "execution_count": 10,
   "metadata": {},
   "outputs": [
    {
     "data": {
      "text/plain": [
       "0"
      ]
     },
     "execution_count": 10,
     "metadata": {},
     "output_type": "execute_result"
    }
   ],
   "source": [
    "contract.start_game(password_hash=alice_game_password_hash, choice_hash=alice_salted_choice_hash)"
   ]
  }
 ],
 "metadata": {
  "kernelspec": {
   "display_name": "Python 3",
   "language": "python",
   "name": "python3"
  },
  "language_info": {
   "codemirror_mode": {
    "name": "ipython",
    "version": 3
   },
   "file_extension": ".py",
   "mimetype": "text/x-python",
   "name": "python",
   "nbconvert_exporter": "python",
   "pygments_lexer": "ipython3",
   "version": "3.7.3"
  }
 },
 "nbformat": 4,
 "nbformat_minor": 2
}
