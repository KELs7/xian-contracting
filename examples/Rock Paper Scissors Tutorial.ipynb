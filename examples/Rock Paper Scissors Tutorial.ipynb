{
 "cells": [
  {
   "cell_type": "code",
   "execution_count": 1,
   "metadata": {},
   "outputs": [],
   "source": [
    "from contracting.stdlib.bridge.hashing import sha3\n",
    "import secrets"
   ]
  },
  {
   "cell_type": "code",
   "execution_count": 2,
   "metadata": {},
   "outputs": [],
   "source": [
    "def rps_contract():\n",
    "    # This tells the blockchain to make space for data. Variable and Hash are not Python builtins. \n",
    "    # They are globals (globals are something you can access without importing it) made available by the contracting. \n",
    "    # Calling Variable() creates a new piece of memory within the blockchain, that can hold a single value. \n",
    "    # If we say \"foo = Variable()\" then we can interact with that piece of memory through \"foo\". \n",
    "    # We can set the piece of memory to 1, for example by calling \"foo.set(1)\".\n",
    "    # Setting the value will change the value for the next call to the smart contract.\n",
    "    # We can get the piece of memory by calling \"foo.get()\".\n",
    "    next_game_id = Variable()\n",
    "    \n",
    "    game_id_to_password_hash = Hash()\n",
    "    game_id_to_player1_choice = Hash()\n",
    "            \n",
    "    # @construct means that this is the function that will be called ONCE when the smart contract is created\n",
    "    @construct\n",
    "    def constructor():\n",
    "        # Game id starts at 0.\n",
    "        next_game_id.set(0)\n",
    "        \n",
    "    # @export makes this function public, so it can be called by anyone on a deployed contract    \n",
    "    @export\n",
    "    def start_game(password_hash, player1_choice_hash):\n",
    "        # This retrieves unique game Id from the blockchain. \n",
    "        unique_game_id = next_game_id.get()\n",
    "        # This increments the number by 1, so the next game has a unique Id.\n",
    "        next_game_id.set(next_game_id.get() + 1)\n",
    "        \n",
    "        # Hash throws error on integer keys. That's why we convert to a string\n",
    "        # Remember player1 choice hash, and password hash for this game. \n",
    "        game_id_to_password_hash[str(unique_game_id)] = password_hash\n",
    "        game_id_to_player1_choice[str(unique_game_id)] = player1_choice_hash\n",
    "        \n",
    "        return unique_game_id\n",
    "    \n",
    "    @export\n",
    "    def submit_choice(game_id, game_password, player2_choice_hash):\n",
    "        #We need to check that this game exists.\n",
    "        assert game_id < next_game_id.get(), 'Game with id {} does not exist.'.format(game_id)\n",
    "        #Now we need to check that this is the right password for the game.\n",
    "        assert sha3(game_password) == game_id_to_password_hash[str(game_id)], 'Wrong password!'\n",
    "        return\n",
    "        \n",
    "        \n",
    "from contracting.client import ContractingClient\n",
    "client = ContractingClient(signer='ren')\n",
    "\n",
    "client.submit(rps_contract)\n",
    "\n",
    "contract = client.get_contract('rps_contract')"
   ]
  },
  {
   "cell_type": "markdown",
   "metadata": {},
   "source": [
    "Alice (player 1) chooses single use password. Only the person that has the password can join the game and play with Alice. Everything that starts with alice_ is only visible to Alice. "
   ]
  },
  {
   "cell_type": "code",
   "execution_count": 3,
   "metadata": {},
   "outputs": [],
   "source": [
    "alice_game_password = \"trollbridge\""
   ]
  },
  {
   "cell_type": "markdown",
   "metadata": {},
   "source": [
    "Alice hashes the password so she can submit it to the blockchain without sharing the actual password. She does this because everything on the blockchain is public, and she wants only the person she chooses to play the game with to have the password. \n",
    "\n",
    "*explain hashing"
   ]
  },
  {
   "cell_type": "code",
   "execution_count": 4,
   "metadata": {},
   "outputs": [
    {
     "data": {
      "text/plain": [
       "'47a5bcfb0d81053f5025ab57e6b94f43751f91bdb16fc0d63595223dc78ec1b4'"
      ]
     },
     "execution_count": 4,
     "metadata": {},
     "output_type": "execute_result"
    }
   ],
   "source": [
    "alice_game_password_hash = sha3(alice_game_password)\n",
    "alice_game_password_hash"
   ]
  },
  {
   "cell_type": "markdown",
   "metadata": {},
   "source": [
    "Alice chooses rock."
   ]
  },
  {
   "cell_type": "code",
   "execution_count": 5,
   "metadata": {},
   "outputs": [],
   "source": [
    "alice_choice = \"rock\""
   ]
  },
  {
   "cell_type": "markdown",
   "metadata": {},
   "source": [
    "We can't submit the choice to the blockchain as plain text, because then Bob (player 2) can see it and win by choosing paper. \n",
    "\n",
    "*explain blockchain sequentiality"
   ]
  },
  {
   "cell_type": "code",
   "execution_count": 6,
   "metadata": {},
   "outputs": [
    {
     "data": {
      "text/plain": [
       "'bd996e2dc82a7c3e2c2da41291648e852b62b01fb09bcb6ed77975c273f08404'"
      ]
     },
     "execution_count": 6,
     "metadata": {},
     "output_type": "execute_result"
    }
   ],
   "source": [
    "alice_choice_hash = sha3(alice_choice)\n",
    "alice_choice_hash"
   ]
  },
  {
   "cell_type": "markdown",
   "metadata": {},
   "source": [
    "The problem with subiting Alices choice like this is the 3 choices will be hashed the same everytime. Bob (player 2) can know what each of the hashes for the 3 choices and pick paper to win. To fix this Alice needs to pick a random salt to hash with her choice so that Bob can't guess her choice by looking at the hash."
   ]
  },
  {
   "cell_type": "code",
   "execution_count": 7,
   "metadata": {},
   "outputs": [
    {
     "data": {
      "text/plain": [
       "'92ada16aad7bb63aff741055c12ff7e677981964ad3f0ee5e0b73633dae2a734'"
      ]
     },
     "execution_count": 7,
     "metadata": {},
     "output_type": "execute_result"
    }
   ],
   "source": [
    "alice_choice_salt = secrets.token_hex(32)\n",
    "alice_choice_salt"
   ]
  },
  {
   "cell_type": "raw",
   "metadata": {},
   "source": [
    "Now we can combine alice_choice and alice_choice_salt and hash them together to create something that Bob can't guess Alices choice from. But Alice can later submit her choice and the salt to prove her choice."
   ]
  },
  {
   "cell_type": "code",
   "execution_count": 8,
   "metadata": {},
   "outputs": [
    {
     "data": {
      "text/plain": [
       "'rock92ada16aad7bb63aff741055c12ff7e677981964ad3f0ee5e0b73633dae2a734'"
      ]
     },
     "execution_count": 8,
     "metadata": {},
     "output_type": "execute_result"
    }
   ],
   "source": [
    "alice_salted_choice = alice_choice + alice_choice_salt\n",
    "alice_salted_choice"
   ]
  },
  {
   "cell_type": "code",
   "execution_count": 9,
   "metadata": {},
   "outputs": [
    {
     "data": {
      "text/plain": [
       "'2b69aa929da379bda48ef8a42599056e7c87fd0b472d0d1ad7572c8ddae50740'"
      ]
     },
     "execution_count": 9,
     "metadata": {},
     "output_type": "execute_result"
    }
   ],
   "source": [
    "alice_salted_choice_hash = sha3(alice_salted_choice)\n",
    "alice_salted_choice_hash"
   ]
  },
  {
   "cell_type": "markdown",
   "metadata": {},
   "source": [
    "Now Alice starts a game so she can invite Bob to play."
   ]
  },
  {
   "cell_type": "code",
   "execution_count": 10,
   "metadata": {},
   "outputs": [
    {
     "data": {
      "text/plain": [
       "0"
      ]
     },
     "execution_count": 10,
     "metadata": {},
     "output_type": "execute_result"
    }
   ],
   "source": [
    "alice_game_id = contract.start_game(password_hash=alice_game_password_hash, player1_choice_hash=alice_salted_choice_hash) \n",
    "alice_game_id"
   ]
  },
  {
   "cell_type": "markdown",
   "metadata": {},
   "source": [
    "Alice gets back a game Id."
   ]
  },
  {
   "cell_type": "markdown",
   "metadata": {},
   "source": [
    "Now Alice has to tell Bob the password and the game Id. This could be done over a messanger or built into the front end of an application. \n",
    "\n",
    "Everything that starts with bob_ is only visible to Bob."
   ]
  },
  {
   "cell_type": "code",
   "execution_count": 11,
   "metadata": {},
   "outputs": [],
   "source": [
    "bob_game_password = alice_game_password\n",
    "bob_game_id = alice_game_id"
   ]
  },
  {
   "cell_type": "markdown",
   "metadata": {},
   "source": [
    "Now it is Bobs turn.\n",
    "Bob chooses scissors."
   ]
  },
  {
   "cell_type": "code",
   "execution_count": 12,
   "metadata": {},
   "outputs": [],
   "source": [
    "bob_choice = \"scissors\""
   ]
  },
  {
   "cell_type": "markdown",
   "metadata": {},
   "source": [
    "And now Bob has to salt his choice."
   ]
  },
  {
   "cell_type": "code",
   "execution_count": 13,
   "metadata": {},
   "outputs": [
    {
     "data": {
      "text/plain": [
       "'6240c949a925e249b699213368b725f0a2e4e40e7ac01811676a2cd64751a417'"
      ]
     },
     "execution_count": 13,
     "metadata": {},
     "output_type": "execute_result"
    }
   ],
   "source": [
    "bob_choice_salt = secrets.token_hex(32)\n",
    "bob_choice_salt"
   ]
  },
  {
   "cell_type": "markdown",
   "metadata": {},
   "source": [
    "And now we combine bob_choice and bob_choice_salt together and hash them."
   ]
  },
  {
   "cell_type": "code",
   "execution_count": 14,
   "metadata": {},
   "outputs": [
    {
     "data": {
      "text/plain": [
       "'scissors6240c949a925e249b699213368b725f0a2e4e40e7ac01811676a2cd64751a417'"
      ]
     },
     "execution_count": 14,
     "metadata": {},
     "output_type": "execute_result"
    }
   ],
   "source": [
    "bob_salted_choice = bob_choice + bob_choice_salt\n",
    "bob_salted_choice"
   ]
  },
  {
   "cell_type": "code",
   "execution_count": 15,
   "metadata": {},
   "outputs": [
    {
     "data": {
      "text/plain": [
       "'6620491f304ab53ebd422d08d0e6ad75c60d18b90dc80ef46f8b5fd06ff860a8'"
      ]
     },
     "execution_count": 15,
     "metadata": {},
     "output_type": "execute_result"
    }
   ],
   "source": [
    "bob_salted_choice_hash = sha3(bob_salted_choice)\n",
    "bob_salted_choice_hash"
   ]
  },
  {
   "cell_type": "markdown",
   "metadata": {},
   "source": [
    "Bob now needs to submit his choice to the blockchain. Only Bob has the game password so only Bob can join Alices game."
   ]
  },
  {
   "cell_type": "code",
   "execution_count": 16,
   "metadata": {},
   "outputs": [
    {
     "name": "stdout",
     "output_type": "stream",
     "text": [
      "name 'sha3' is not defined\n"
     ]
    },
    {
     "ename": "NameError",
     "evalue": "name 'sha3' is not defined",
     "output_type": "error",
     "traceback": [
      "\u001b[0;31m---------------------------------------------------------------------------\u001b[0m",
      "\u001b[0;31mNameError\u001b[0m                                 Traceback (most recent call last)",
      "\u001b[0;32m<ipython-input-16-ee480659112a>\u001b[0m in \u001b[0;36m<module>\u001b[0;34m\u001b[0m\n\u001b[0;32m----> 1\u001b[0;31m \u001b[0mcontract\u001b[0m\u001b[0;34m.\u001b[0m\u001b[0msubmit_choice\u001b[0m\u001b[0;34m(\u001b[0m\u001b[0mgame_password\u001b[0m\u001b[0;34m=\u001b[0m\u001b[0mbob_game_password\u001b[0m\u001b[0;34m,\u001b[0m \u001b[0mgame_id\u001b[0m\u001b[0;34m=\u001b[0m\u001b[0mbob_game_id\u001b[0m\u001b[0;34m,\u001b[0m \u001b[0mplayer2_choice_hash\u001b[0m\u001b[0;34m=\u001b[0m\u001b[0mbob_salted_choice_hash\u001b[0m\u001b[0;34m)\u001b[0m\u001b[0;34m\u001b[0m\u001b[0;34m\u001b[0m\u001b[0m\n\u001b[0m",
      "\u001b[0;32m~/Desktop/contracting-ren/contracting/client.py\u001b[0m in \u001b[0;36m_abstract_function_call\u001b[0;34m(self, signer, executor, contract, environment, func, **kwargs)\u001b[0m\n\u001b[1;32m     90\u001b[0m \u001b[0;34m\u001b[0m\u001b[0m\n\u001b[1;32m     91\u001b[0m         \u001b[0;32mif\u001b[0m \u001b[0mstatus\u001b[0m \u001b[0;34m==\u001b[0m \u001b[0;36m1\u001b[0m\u001b[0;34m:\u001b[0m\u001b[0;34m\u001b[0m\u001b[0;34m\u001b[0m\u001b[0m\n\u001b[0;32m---> 92\u001b[0;31m             \u001b[0;32mraise\u001b[0m \u001b[0mresult\u001b[0m\u001b[0;34m\u001b[0m\u001b[0;34m\u001b[0m\u001b[0m\n\u001b[0m\u001b[1;32m     93\u001b[0m \u001b[0;34m\u001b[0m\u001b[0m\n\u001b[1;32m     94\u001b[0m         \u001b[0;32mreturn\u001b[0m \u001b[0mresult\u001b[0m\u001b[0;34m\u001b[0m\u001b[0;34m\u001b[0m\u001b[0m\n",
      "\u001b[0;32m~/Desktop/contracting-ren/contracting/execution/executor.py\u001b[0m in \u001b[0;36mexecute\u001b[0;34m(self, sender, contract_name, function_name, kwargs, auto_commit, environment, driver)\u001b[0m\n\u001b[1;32m    153\u001b[0m             \u001b[0mfunc\u001b[0m \u001b[0;34m=\u001b[0m \u001b[0mgetattr\u001b[0m\u001b[0;34m(\u001b[0m\u001b[0mmodule\u001b[0m\u001b[0;34m,\u001b[0m \u001b[0mfunction_name\u001b[0m\u001b[0;34m)\u001b[0m\u001b[0;34m\u001b[0m\u001b[0;34m\u001b[0m\u001b[0m\n\u001b[1;32m    154\u001b[0m \u001b[0;34m\u001b[0m\u001b[0m\n\u001b[0;32m--> 155\u001b[0;31m             \u001b[0mresult\u001b[0m \u001b[0;34m=\u001b[0m \u001b[0mfunc\u001b[0m\u001b[0;34m(\u001b[0m\u001b[0;34m**\u001b[0m\u001b[0mkwargs\u001b[0m\u001b[0;34m)\u001b[0m\u001b[0;34m\u001b[0m\u001b[0;34m\u001b[0m\u001b[0m\n\u001b[0m\u001b[1;32m    156\u001b[0m \u001b[0;34m\u001b[0m\u001b[0m\n\u001b[1;32m    157\u001b[0m             \u001b[0;32mif\u001b[0m \u001b[0mauto_commit\u001b[0m\u001b[0;34m:\u001b[0m\u001b[0;34m\u001b[0m\u001b[0;34m\u001b[0m\u001b[0m\n",
      "\u001b[0;32m?\u001b[0m in \u001b[0;36msubmit_choice\u001b[0;34m(game_id, game_password, player2_choice_hash)\u001b[0m\n",
      "\u001b[0;31mNameError\u001b[0m: name 'sha3' is not defined"
     ]
    }
   ],
   "source": [
    "contract.submit_choice(game_password=bob_game_password, game_id=bob_game_id, player2_choice_hash=bob_salted_choice_hash)"
   ]
  }
 ],
 "metadata": {
  "kernelspec": {
   "display_name": "Python 3",
   "language": "python",
   "name": "python3"
  },
  "language_info": {
   "codemirror_mode": {
    "name": "ipython",
    "version": 3
   },
   "file_extension": ".py",
   "mimetype": "text/x-python",
   "name": "python",
   "nbconvert_exporter": "python",
   "pygments_lexer": "ipython3",
   "version": "3.7.3"
  }
 },
 "nbformat": 4,
 "nbformat_minor": 2
}
