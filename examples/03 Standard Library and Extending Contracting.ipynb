{
 "cells": [
  {
   "cell_type": "markdown",
   "metadata": {},
   "source": [
    "# The Contracting Standard Library\n",
    "There are unique variables and functions available for smart contracts at runtime. In the last notebook, we used the ORM variables that are provided via the `stdlib` to interact with the database. We will explore the other methods in this notebook and the concept of `environment` and `ctx`.\n",
    "\n",
    "To see the basic standard library included at runtime, use `gather()` from the `env` module."
   ]
  },
  {
   "cell_type": "code",
   "execution_count": 3,
   "metadata": {},
   "outputs": [],
   "source": [
    "from contracting.stdlib import env"
   ]
  },
  {
   "cell_type": "code",
   "execution_count": 4,
   "metadata": {},
   "outputs": [
    {
     "data": {
      "text/plain": [
       "{'Variable': contracting.db.orm.Variable,\n",
       " 'Hash': contracting.db.orm.Hash,\n",
       " 'ForeignVariable': contracting.db.orm.ForeignVariable,\n",
       " 'ForeignHash': contracting.db.orm.ForeignHash,\n",
       " '__Contract': contracting.db.contract.Contract,\n",
       " 'sha3': <function contracting.stdlib.bridge.hashing.sha3(hex_str:str)>,\n",
       " 'sha256': <function contracting.stdlib.bridge.hashing.sha256(hex_str:str)>,\n",
       " 'datetime': contracting.stdlib.bridge.time.Datetime}"
      ]
     },
     "execution_count": 4,
     "metadata": {},
     "output_type": "execute_result"
    }
   ],
   "source": [
    "env.gather()"
   ]
  },
  {
   "cell_type": "markdown",
   "metadata": {},
   "source": [
    "All of these functions are available at runtime. You can extend the standard library by updating the `env` dictionary. If you want to pass something more dynamic through, like the time that a transaction was submitted to the network, you would pass in an environment object."
   ]
  },
  {
   "cell_type": "code",
   "execution_count": 5,
   "metadata": {},
   "outputs": [],
   "source": [
    "def stdlib_environment_examples():\n",
    "    \n",
    "    @export\n",
    "    def sha3_data(s):\n",
    "        return sha3(s)\n",
    "    \n",
    "    @export\n",
    "    def return_env_variable():\n",
    "        return this_will_be_defined_later"
   ]
  },
  {
   "cell_type": "markdown",
   "metadata": {},
   "source": [
    "First, let's try to access the `sha3` function exposed in the `stdlib`."
   ]
  },
  {
   "cell_type": "code",
   "execution_count": 6,
   "metadata": {},
   "outputs": [],
   "source": [
    "from contracting.client import ContractingClient\n",
    "client = ContractingClient(signer='stu')\n",
    "client.submit(stdlib_environment_examples)\n",
    "contract = client.get_contract('stdlib_environment_examples')"
   ]
  },
  {
   "cell_type": "code",
   "execution_count": 12,
   "metadata": {},
   "outputs": [
    {
     "data": {
      "text/plain": [
       "'a0d5f1e1000980a0ae98cffb12072a41328bbdfebf3f6012aa021b428daea5b7'"
      ]
     },
     "execution_count": 12,
     "metadata": {},
     "output_type": "execute_result"
    }
   ],
   "source": [
    "contract.sha3_data(s='00ff00ff00ff')"
   ]
  },
  {
   "cell_type": "markdown",
   "metadata": {},
   "source": [
    "Now, if we try to call `return_env_variable()`, we will get an error. This is because the variable is not included in the `stdlib` nor has been defined elsewhere in the contract."
   ]
  },
  {
   "cell_type": "code",
   "execution_count": 13,
   "metadata": {},
   "outputs": [
    {
     "name": "stdout",
     "output_type": "stream",
     "text": [
      "name 'this_will_be_defined_later' is not defined\n"
     ]
    }
   ],
   "source": [
    "try:\n",
    "    contract.return_env_variable()\n",
    "except Exception as e:\n",
    "    print(e)"
   ]
  },
  {
   "cell_type": "markdown",
   "metadata": {},
   "source": [
    "But if we pass it in the environment, it becomes accessible. This function is used by our blockchain to pass contextual information such as block height, block hash, transaction time, etc."
   ]
  },
  {
   "cell_type": "code",
   "execution_count": 14,
   "metadata": {},
   "outputs": [
    {
     "data": {
      "text/plain": [
       "42"
      ]
     },
     "execution_count": 14,
     "metadata": {},
     "output_type": "execute_result"
    }
   ],
   "source": [
    "environment = {'this_will_be_defined_later': 42}\n",
    "contract.return_env_variable(environment=environment)"
   ]
  },
  {
   "cell_type": "markdown",
   "metadata": {},
   "source": [
    "## Runtime Context `ctx`\n",
    "At runtime, there is a constant defined called `ctx`. `ctx` contains three fields:\n",
    "\n",
    "* `ctx.signer`\n",
    "\n",
    "    This is the signer of the initial transaction. This variable never changes. It should not be used for access control.\n",
    "\n",
    "---\n",
    "\n",
    "* `ctx.caller`\n",
    "    \n",
    "    This is the direct caller of the function. As explained in the next notebook, smart contracts can import functions from other smart contracts. If you submit a transaction to a smart contract which calls upon another smart contract, the call stack is modified. The `caller` becomes the calling smart contract on a function. This should be used for access control.\n",
    "    \n",
    "---    \n",
    "    \n",
    "* `ctx.this`\n",
    "\n",
    "    This is the name of the smart contract. This is how you will reference a smart contract for ascribing ownership to them."
   ]
  },
  {
   "cell_type": "code",
   "execution_count": 15,
   "metadata": {},
   "outputs": [],
   "source": [
    "def call_me():\n",
    "    @export\n",
    "    def caller():\n",
    "        return ctx.caller\n",
    "    \n",
    "    @export\n",
    "    def this():\n",
    "        return ctx.this\n",
    "\n",
    "def ctx_example():\n",
    "    import call_me\n",
    "    \n",
    "    @export\n",
    "    def ctx_now():\n",
    "        return ctx.signer, ctx.caller, ctx.this\n",
    "    \n",
    "    @export\n",
    "    def ctx_after_call():\n",
    "        c = call_me.caller()\n",
    "        t = call_me.this()\n",
    "        \n",
    "        return ctx.signer, c, t"
   ]
  },
  {
   "cell_type": "code",
   "execution_count": 16,
   "metadata": {},
   "outputs": [],
   "source": [
    "client.submit(call_me)\n",
    "client.submit(ctx_example)"
   ]
  },
  {
   "cell_type": "code",
   "execution_count": 17,
   "metadata": {},
   "outputs": [],
   "source": [
    "ctx_contract = client.get_contract('ctx_example')"
   ]
  },
  {
   "cell_type": "code",
   "execution_count": 18,
   "metadata": {},
   "outputs": [
    {
     "data": {
      "text/plain": [
       "('stu', 'stu', 'ctx_example')"
      ]
     },
     "execution_count": 18,
     "metadata": {},
     "output_type": "execute_result"
    }
   ],
   "source": [
    "ctx_contract.ctx_now()"
   ]
  },
  {
   "cell_type": "code",
   "execution_count": 19,
   "metadata": {},
   "outputs": [
    {
     "data": {
      "text/plain": [
       "('stu', 'ctx_example', 'call_me')"
      ]
     },
     "execution_count": 19,
     "metadata": {},
     "output_type": "execute_result"
    }
   ],
   "source": [
    "ctx_contract.ctx_after_call()"
   ]
  },
  {
   "cell_type": "markdown",
   "metadata": {},
   "source": [
    "Notice above how `ctx_after_call` returns different information. This is because `ctx` is modified after each function call. Because `ctx_example` called `call_me`, the `ctx.caller` returned was `ctx_example`. If we call that function directly, we will get `stu` back."
   ]
  },
  {
   "cell_type": "code",
   "execution_count": 20,
   "metadata": {},
   "outputs": [],
   "source": [
    "call_me_contract = client.get_contract('call_me')"
   ]
  },
  {
   "cell_type": "code",
   "execution_count": 21,
   "metadata": {},
   "outputs": [
    {
     "data": {
      "text/plain": [
       "'stu'"
      ]
     },
     "execution_count": 21,
     "metadata": {},
     "output_type": "execute_result"
    }
   ],
   "source": [
    "call_me_contract.caller()"
   ]
  },
  {
   "cell_type": "markdown",
   "metadata": {},
   "source": [
    "## Why does `ctx` being dynamic matter?\n",
    "Having `ctx` lets you create smart contracts that act as operators for users and other smart contracts. Because they are given their own identity, they are essentially the signers of their own function calls. This allows you to give them their own accounts, balances, ownerships, etc. to create structures that behave complexly and securely.\n",
    "\n",
    "Assume you have a bank smart contract. You want to keep everyone's balance inside of the main bank vault, but keep sub-accounts in their name. You don't want the bank to be able to spend someone else's money on their behalf, so you would check the `ctx.caller` to make sure it is the user, and not the bank itself.\n",
    "\n",
    "Let's make a token contract to demonstrate this idea."
   ]
  },
  {
   "cell_type": "code",
   "execution_count": 24,
   "metadata": {},
   "outputs": [],
   "source": [
    "def token():\n",
    "    balances = Hash()\n",
    "    token_name = 'Stubucks'\n",
    "    token_symbol = 'SBX'\n",
    "    \n",
    "    @construct\n",
    "    def seed():\n",
    "        # Whoever creates this smart contract is minted 1,000,000 tokens\n",
    "        balances[ctx.caller] = 1000000\n",
    "        \n",
    "    @export\n",
    "    def transfer(amount, to):\n",
    "        assert balances[ctx.caller] >= amount, \"You don't have enough to spend!\"\n",
    "        \n",
    "        balances[ctx.caller] -= amount\n",
    "        balances[to] += amount\n",
    "        \n",
    "    @export\n",
    "    def allow(amount, spender):\n",
    "        # We will explain multihashes in a bit!\n",
    "        balances[ctx.caller, spender] = amount\n",
    "        \n",
    "    @export\n",
    "    def spend_on_behalf(amount, owner, to):\n",
    "        # We make sure we have a subaccount balance available\n",
    "        assert balances[owner, ctx.caller] >= amount, \"You can't spend that!\"\n",
    "        \n",
    "        balances[owner, ctx.caller] -= amount\n",
    "        \n",
    "        balances[owner] -= amount\n",
    "        balances[to] += amount\n",
    "        \n",
    "def bank():\n",
    "    import token\n",
    "    \n",
    "    balances = Hash()\n",
    "    \n",
    "    @export\n",
    "    def deposit(amount):\n",
    "        token.spend_on_behalf(amount=amount, owner=ctx.caller, to=ctx.this)\n",
    "        \n",
    "        balances[ctx.caller] += amount\n",
    "        \n",
    "    @export\n",
    "    def withdraw(amount):\n",
    "        assert balances[ctx.caller] >= amount, \"You don't have enough in your account!\"\n",
    "        \n",
    "        balances[ctx.caller] -= amount\n",
    "        \n",
    "        token.transfer(amount=amount, to=ctx.spender)"
   ]
  },
  {
   "cell_type": "code",
   "execution_count": null,
   "metadata": {},
   "outputs": [],
   "source": []
  }
 ],
 "metadata": {
  "kernelspec": {
   "display_name": "Python 3",
   "language": "python",
   "name": "python3"
  },
  "language_info": {
   "codemirror_mode": {
    "name": "ipython",
    "version": 3
   },
   "file_extension": ".py",
   "mimetype": "text/x-python",
   "name": "python",
   "nbconvert_exporter": "python",
   "pygments_lexer": "ipython3",
   "version": "3.6.5"
  }
 },
 "nbformat": 4,
 "nbformat_minor": 2
}
